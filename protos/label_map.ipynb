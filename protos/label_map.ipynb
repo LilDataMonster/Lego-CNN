{
 "cells": [
  {
   "cell_type": "markdown",
   "id": "9e810afc-9400-4aff-b2a5-883ea52359f7",
   "metadata": {},
   "source": [
    "## Creating `.pbtxt` for COCO LabelMaps\n",
    "\n",
    "Yanked label map for `.proto` [here](https://github.com/tensorflow/models/blob/master/research/object_detection/protos/string_int_label_map.proto). Compiled `.proto` into `_pb2.py` [here](https://developers.google.com/protocol-buffers/docs/pythontutorial#compiling-your-protocol-buffers).\n",
    "\n",
    "Goal is to generate a label map similar to [here](https://github.com/tensorflow/models/blob/master/research/object_detection/data/mscoco_label_map.pbtxt)."
   ]
  },
  {
   "cell_type": "code",
   "execution_count": 23,
   "id": "7c7b89a0-b5fa-4a68-8894-4a9e58204b8b",
   "metadata": {},
   "outputs": [],
   "source": [
    "from google.protobuf import text_format\n",
    "from coco_label_map_pb2 import StringIntLabelMapItem, StringIntLabelMap"
   ]
  },
  {
   "cell_type": "code",
   "execution_count": 29,
   "id": "9f05bb9e-3c3d-4d49-9072-fb3507862e58",
   "metadata": {},
   "outputs": [
    {
     "name": "stdout",
     "output_type": "stream",
     "text": [
      "name: \"test\"\n",
      "id: 2\n",
      "display_name: \"test\"\n",
      "\n"
     ]
    }
   ],
   "source": [
    "label_map_item = StringIntLabelMapItem(name='test', id=2, display_name='test')\n",
    "text_proto = text_format.MessageToString(label_map_item)\n",
    "print(text_proto)"
   ]
  },
  {
   "cell_type": "code",
   "execution_count": 30,
   "id": "9f19bcdb-d315-4d0a-942d-3a028dd71f3c",
   "metadata": {},
   "outputs": [
    {
     "name": "stdout",
     "output_type": "stream",
     "text": [
      "item {\n",
      "  name: \"test\"\n",
      "  id: 2\n",
      "  display_name: \"test\"\n",
      "}\n",
      "item {\n",
      "  name: \"test\"\n",
      "  id: 2\n",
      "  display_name: \"test\"\n",
      "}\n",
      "\n"
     ]
    }
   ],
   "source": [
    "label_map = StringIntLabelMap(item=[label_map_item, label_map_item])\n",
    "text_proto = text_format.MessageToString(label_map)\n",
    "print(text_proto)"
   ]
  },
  {
   "cell_type": "code",
   "execution_count": 31,
   "id": "d84ca4ad-458b-4c25-8428-bb5fddfc11c0",
   "metadata": {},
   "outputs": [],
   "source": [
    "# with open(\"obj.pbtxt\", \"w\") as fw:\n",
    "#     text_format.PrintMessage(label_map, fw)"
   ]
  }
 ],
 "metadata": {
  "kernelspec": {
   "display_name": "Python 3 (ipykernel)",
   "language": "python",
   "name": "python3"
  },
  "language_info": {
   "codemirror_mode": {
    "name": "ipython",
    "version": 3
   },
   "file_extension": ".py",
   "mimetype": "text/x-python",
   "name": "python",
   "nbconvert_exporter": "python",
   "pygments_lexer": "ipython3",
   "version": "3.9.7"
  }
 },
 "nbformat": 4,
 "nbformat_minor": 5
}
