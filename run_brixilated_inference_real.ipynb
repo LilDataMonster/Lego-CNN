{
 "cells": [
  {
   "cell_type": "code",
   "execution_count": 1,
   "id": "4fd0e0ee-46e6-475e-af0a-e83a88db7957",
   "metadata": {},
   "outputs": [
    {
     "name": "stderr",
     "output_type": "stream",
     "text": [
      "2021-10-24 04:06:01.873978: I tensorflow/stream_executor/platform/default/dso_loader.cc:53] Successfully opened dynamic library libcudart.so.11.0\n"
     ]
    },
    {
     "data": {
      "text/plain": [
       "'2.5.0'"
      ]
     },
     "execution_count": 1,
     "metadata": {},
     "output_type": "execute_result"
    }
   ],
   "source": [
    "import os\n",
    "import numpy as np\n",
    "import tensorflow as tf\n",
    "import matplotlib.pyplot as plt\n",
    "\n",
    "\n",
    "# Import Mask RCNN\n",
    "from mrcnn import visualize\n",
    "import mrcnn.model as modellib\n",
    "\n",
    "from samples.brixilated_lego import lego\n",
    "\n",
    "os.environ['CUDA_VISIBLE_DEVICES'] = '-1'\n",
    "tf.__version__"
   ]
  },
  {
   "cell_type": "code",
   "execution_count": 2,
   "id": "d035765d-b8cc-4760-a371-acdc0f65f36d",
   "metadata": {},
   "outputs": [],
   "source": [
    "ROOT_DIR = './'\n",
    "os.chdir(ROOT_DIR)"
   ]
  },
  {
   "cell_type": "code",
   "execution_count": 3,
   "id": "4b05b86a-7050-4bc2-8972-152ff81be3c9",
   "metadata": {},
   "outputs": [],
   "source": [
    "def get_ax(rows=1, cols=1, size=16):\n",
    "    \"\"\"Return a Matplotlib Axes array to be used in\n",
    "    all visualizations in the notebook. Provide a\n",
    "    central point to control graph sizes.\n",
    "    \n",
    "    Adjust the size attribute to control how big to render images\n",
    "    \"\"\"\n",
    "    _, ax = plt.subplots(rows, cols, figsize=(size*cols, size*rows))\n",
    "    return ax"
   ]
  },
  {
   "cell_type": "code",
   "execution_count": 4,
   "id": "f2acc0ef-7ddb-4e60-b3fd-459c8b8abf32",
   "metadata": {},
   "outputs": [],
   "source": [
    "class InferenceConfig(lego.LegoConfig().__class__):\n",
    "    # Run detection on one image at a time\n",
    "    GPU_COUNT = 1\n",
    "    IMAGES_PER_GPU = 1\n",
    "\n",
    "config = InferenceConfig()"
   ]
  },
  {
   "cell_type": "code",
   "execution_count": 5,
   "id": "212a0771-5579-4c2c-b59b-71cf17ed10fe",
   "metadata": {},
   "outputs": [
    {
     "name": "stdout",
     "output_type": "stream",
     "text": [
      "WARNING:tensorflow:From /home/panda/.conda/envs/lego/lib/python3.9/site-packages/tensorflow/python/ops/array_ops.py:5043: calling gather (from tensorflow.python.ops.array_ops) with validate_indices is deprecated and will be removed in a future version.\n",
      "Instructions for updating:\n",
      "The `validate_indices` argument has no effect. Indices are always validated on CPU and never validated on GPU.\n",
      "WARNING:tensorflow:From /home/panda/.conda/envs/lego/lib/python3.9/site-packages/tensorflow/python/util/deprecation.py:602: calling map_fn_v2 (from tensorflow.python.ops.map_fn) with dtype is deprecated and will be removed in a future version.\n",
      "Instructions for updating:\n",
      "Use fn_output_signature instead\n"
     ]
    },
    {
     "name": "stderr",
     "output_type": "stream",
     "text": [
      "2021-10-24 04:06:07.463072: I tensorflow/stream_executor/platform/default/dso_loader.cc:53] Successfully opened dynamic library libcuda.so.1\n",
      "2021-10-24 04:06:07.490738: E tensorflow/stream_executor/cuda/cuda_driver.cc:328] failed call to cuInit: CUDA_ERROR_NO_DEVICE: no CUDA-capable device is detected\n",
      "2021-10-24 04:06:07.490778: I tensorflow/stream_executor/cuda/cuda_diagnostics.cc:169] retrieving CUDA diagnostic information for host: TRLPanda\n",
      "2021-10-24 04:06:07.490787: I tensorflow/stream_executor/cuda/cuda_diagnostics.cc:176] hostname: TRLPanda\n",
      "2021-10-24 04:06:07.490939: I tensorflow/stream_executor/cuda/cuda_diagnostics.cc:200] libcuda reported version is: 460.91.3\n",
      "2021-10-24 04:06:07.490970: I tensorflow/stream_executor/cuda/cuda_diagnostics.cc:204] kernel reported version is: 460.91.3\n",
      "2021-10-24 04:06:07.490979: I tensorflow/stream_executor/cuda/cuda_diagnostics.cc:310] kernel version seems to match DSO: 460.91.3\n"
     ]
    },
    {
     "name": "stdout",
     "output_type": "stream",
     "text": [
      "Loading weights  ./snapshots/weights/mask_rcnn_lego_0111.h5\n"
     ]
    },
    {
     "name": "stderr",
     "output_type": "stream",
     "text": [
      "2021-10-24 04:06:08.566587: I tensorflow/core/platform/cpu_feature_guard.cc:142] This TensorFlow binary is optimized with oneAPI Deep Neural Network Library (oneDNN) to use the following CPU instructions in performance-critical operations:  AVX2 FMA\n",
      "To enable them in other operations, rebuild TensorFlow with the appropriate compiler flags.\n",
      "2021-10-24 04:06:09.041378: I tensorflow/core/platform/profile_utils/cpu_utils.cc:114] CPU Frequency: 3492955000 Hz\n"
     ]
    }
   ],
   "source": [
    "# Directory to save logs and trained model\n",
    "MODEL_DIR = os.path.join(ROOT_DIR, \"logs\")\n",
    "LEGO_WEIGHTS_PATH = os.path.join(ROOT_DIR, \"snapshots\", \"weights\",\"mask_rcnn_lego_0111.h5\") # Comment out to use snapshot from latest training\n",
    "\n",
    "model = modellib.MaskRCNN(mode=\"inference\", model_dir=\"\", config=config)\n",
    "print(\"Loading weights \", LEGO_WEIGHTS_PATH)\n",
    "model.load_weights(LEGO_WEIGHTS_PATH, by_name=True)"
   ]
  },
  {
   "cell_type": "code",
   "execution_count": 6,
   "id": "4a9bfda9-85e0-4cf4-8a00-4f5b8815c81c",
   "metadata": {},
   "outputs": [
    {
     "name": "stdout",
     "output_type": "stream",
     "text": [
      "Found 5 images belonging to 1 classes.\n",
      "5\n"
     ]
    }
   ],
   "source": [
    "IMG_DIR = os.path.join(ROOT_DIR, 'datasets', 'real_images')\n",
    "img_gen = tf.keras.preprocessing.image.ImageDataGenerator()\n",
    "generator = img_gen.flow_from_directory(IMG_DIR, target_size=(3297, 1908), class_mode=None, batch_size=1, shuffle=False)\n",
    "\n",
    "num_images = len(os.listdir(os.path.join(IMG_DIR, 'imgs')))\n",
    "print(num_images)"
   ]
  },
  {
   "cell_type": "code",
   "execution_count": 21,
   "id": "8d37f69d-34d7-4476-8be9-7b97226d3bda",
   "metadata": {
    "tags": []
   },
   "outputs": [
    {
     "name": "stdout",
     "output_type": "stream",
     "text": [
      "loading annotations into memory...\n",
      "Done (t=6.49s)\n",
      "creating index...\n",
      "index created!\n",
      "Images: 3029\n",
      "Classes: ['BG', '2431', '3003', '3005', '3010', '3020', '3021', '3022', '3023', '3024', '3069', '3070', '3176', '3622', '3700', '3710', '3958', '4150', '4274', '6141', '11211', '11476', '11477', '15068', '15573', '22885', '24201', '24246', '25269', '29119', '29120', '33909', '35480', '36840', '47458', '47905', '85984', '87079', '87087', '87580', '93273', '98138', '99206']\n"
     ]
    }
   ],
   "source": [
    "# get dataset class names\n",
    "DATASET = \"val\"\n",
    "LEGO_DIR = os.path.join(ROOT_DIR, \"datasets\", \"output\", \"coco_data\")\n",
    "\n",
    "dataset = lego.LegoDataset()\n",
    "dataset.load_coco(LEGO_DIR, DATASET)\n",
    "dataset.prepare()\n",
    "print(\"Images: {}\\nClasses: {}\".format(len(dataset.image_ids), dataset.class_names))"
   ]
  },
  {
   "cell_type": "code",
   "execution_count": null,
   "id": "f9171b89-3973-489b-9f4d-aee021ffa88c",
   "metadata": {},
   "outputs": [],
   "source": [
    "# run through images from generator\n",
    "for img_idx, batch in enumerate(generator):\n",
    "    \n",
    "    if img_idx >= num_images:\n",
    "        break\n",
    "        \n",
    "    results = model.detect(batch, verbose=0)\n",
    "    r = results[0]\n",
    "\n",
    "    ax = get_ax(1)\n",
    "    visualize.display_instances(batch[0], r['rois'], r['masks'], r['class_ids'], dataset.class_names, r['scores'], ax=ax, title=\"Predictions\")\n",
    "    plt.axis('image')\n",
    "    plt.savefig(f'output_{img_idx}.png', bbox_inches='tight') # save output\n",
    "    plt.show()"
   ]
  },
  {
   "cell_type": "code",
   "execution_count": 8,
   "id": "c591f765-2d92-40f0-b8c5-4a68067b3f24",
   "metadata": {
    "collapsed": true,
    "jupyter": {
     "outputs_hidden": true
    },
    "tags": []
   },
   "outputs": [
    {
     "name": "stderr",
     "output_type": "stream",
     "text": [
      "/home/panda/.conda/envs/lego/lib/python3.9/site-packages/tensorflow/python/keras/engine/training.py:2426: UserWarning: `Model.state_updates` will be removed in a future version. This property should not be used in TensorFlow 2.0, as `updates` are applied automatically.\n",
      "  warnings.warn('`Model.state_updates` will be removed in a future version. '\n"
     ]
    },
    {
     "data": {
      "text/plain": [
       "{'rois': array([[273, 369, 303, 397]], dtype=int32),\n",
       " 'class_ids': array([32], dtype=int32),\n",
       " 'scores': array([0.7590335], dtype=float32),\n",
       " 'masks': array([[[False],\n",
       "         [False],\n",
       "         [False],\n",
       "         ...,\n",
       "         [False],\n",
       "         [False],\n",
       "         [False]],\n",
       " \n",
       "        [[False],\n",
       "         [False],\n",
       "         [False],\n",
       "         ...,\n",
       "         [False],\n",
       "         [False],\n",
       "         [False]],\n",
       " \n",
       "        [[False],\n",
       "         [False],\n",
       "         [False],\n",
       "         ...,\n",
       "         [False],\n",
       "         [False],\n",
       "         [False]],\n",
       " \n",
       "        ...,\n",
       " \n",
       "        [[False],\n",
       "         [False],\n",
       "         [False],\n",
       "         ...,\n",
       "         [False],\n",
       "         [False],\n",
       "         [False]],\n",
       " \n",
       "        [[False],\n",
       "         [False],\n",
       "         [False],\n",
       "         ...,\n",
       "         [False],\n",
       "         [False],\n",
       "         [False]],\n",
       " \n",
       "        [[False],\n",
       "         [False],\n",
       "         [False],\n",
       "         ...,\n",
       "         [False],\n",
       "         [False],\n",
       "         [False]]])}"
      ]
     },
     "execution_count": 8,
     "metadata": {},
     "output_type": "execute_result"
    }
   ],
   "source": [
    "img_url = 'https://thumbs.dreamstime.com/b/lego-blocks-17854970.jpg'\n",
    "image_path = 'lego-blocks-17854970.jpg'\n",
    "image = tf.keras.preprocessing.image.load_img(image_path)\n",
    "image_data = tf.keras.preprocessing.image.img_to_array(image)\n",
    "results = model.detect([image_data], verbose=0)[0]\n",
    "results"
   ]
  },
  {
   "cell_type": "code",
   "execution_count": 17,
   "id": "cd81f464-1ef0-4f54-b614-e21d64bcc293",
   "metadata": {},
   "outputs": [
    {
     "data": {
      "text/plain": [
       "{'class_ids': [32],\n",
       " 'rois': [[273, 369, 303, 397]],\n",
       " 'scores': [0.7590335011482239]}"
      ]
     },
     "execution_count": 17,
     "metadata": {},
     "output_type": "execute_result"
    }
   ],
   "source": [
    "response = {}\n",
    "response['class_ids'] = results['class_ids'].tolist()\n",
    "response['rois'] = results['rois'].tolist()\n",
    "response['scores'] = results['scores'].tolist()\n",
    "response"
   ]
  },
  {
   "cell_type": "code",
   "execution_count": 28,
   "id": "71911e24-0c81-4439-af0c-960fdb309827",
   "metadata": {},
   "outputs": [
    {
     "name": "stdout",
     "output_type": "stream",
     "text": [
      "[\n",
      "  {\n",
      "    \"id\": 0,\n",
      "    \"name\": \"BG\"\n",
      "  },\n",
      "  {\n",
      "    \"id\": 1,\n",
      "    \"name\": \"2431\"\n",
      "  },\n",
      "  {\n",
      "    \"id\": 2,\n",
      "    \"name\": \"3003\"\n",
      "  },\n",
      "  {\n",
      "    \"id\": 3,\n",
      "    \"name\": \"3005\"\n",
      "  },\n",
      "  {\n",
      "    \"id\": 4,\n",
      "    \"name\": \"3010\"\n",
      "  },\n",
      "  {\n",
      "    \"id\": 5,\n",
      "    \"name\": \"3020\"\n",
      "  },\n",
      "  {\n",
      "    \"id\": 6,\n",
      "    \"name\": \"3021\"\n",
      "  },\n",
      "  {\n",
      "    \"id\": 7,\n",
      "    \"name\": \"3022\"\n",
      "  },\n",
      "  {\n",
      "    \"id\": 8,\n",
      "    \"name\": \"3023\"\n",
      "  },\n",
      "  {\n",
      "    \"id\": 9,\n",
      "    \"name\": \"3024\"\n",
      "  },\n",
      "  {\n",
      "    \"id\": 10,\n",
      "    \"name\": \"3069\"\n",
      "  },\n",
      "  {\n",
      "    \"id\": 11,\n",
      "    \"name\": \"3070\"\n",
      "  },\n",
      "  {\n",
      "    \"id\": 12,\n",
      "    \"name\": \"3176\"\n",
      "  },\n",
      "  {\n",
      "    \"id\": 13,\n",
      "    \"name\": \"3622\"\n",
      "  },\n",
      "  {\n",
      "    \"id\": 14,\n",
      "    \"name\": \"3700\"\n",
      "  },\n",
      "  {\n",
      "    \"id\": 15,\n",
      "    \"name\": \"3710\"\n",
      "  },\n",
      "  {\n",
      "    \"id\": 16,\n",
      "    \"name\": \"3958\"\n",
      "  },\n",
      "  {\n",
      "    \"id\": 17,\n",
      "    \"name\": \"4150\"\n",
      "  },\n",
      "  {\n",
      "    \"id\": 18,\n",
      "    \"name\": \"4274\"\n",
      "  },\n",
      "  {\n",
      "    \"id\": 19,\n",
      "    \"name\": \"6141\"\n",
      "  },\n",
      "  {\n",
      "    \"id\": 20,\n",
      "    \"name\": \"11211\"\n",
      "  },\n",
      "  {\n",
      "    \"id\": 21,\n",
      "    \"name\": \"11476\"\n",
      "  },\n",
      "  {\n",
      "    \"id\": 22,\n",
      "    \"name\": \"11477\"\n",
      "  },\n",
      "  {\n",
      "    \"id\": 23,\n",
      "    \"name\": \"15068\"\n",
      "  },\n",
      "  {\n",
      "    \"id\": 24,\n",
      "    \"name\": \"15573\"\n",
      "  },\n",
      "  {\n",
      "    \"id\": 25,\n",
      "    \"name\": \"22885\"\n",
      "  },\n",
      "  {\n",
      "    \"id\": 26,\n",
      "    \"name\": \"24201\"\n",
      "  },\n",
      "  {\n",
      "    \"id\": 27,\n",
      "    \"name\": \"24246\"\n",
      "  },\n",
      "  {\n",
      "    \"id\": 28,\n",
      "    \"name\": \"25269\"\n",
      "  },\n",
      "  {\n",
      "    \"id\": 29,\n",
      "    \"name\": \"29119\"\n",
      "  },\n",
      "  {\n",
      "    \"id\": 30,\n",
      "    \"name\": \"29120\"\n",
      "  },\n",
      "  {\n",
      "    \"id\": 31,\n",
      "    \"name\": \"33909\"\n",
      "  },\n",
      "  {\n",
      "    \"id\": 32,\n",
      "    \"name\": \"35480\"\n",
      "  },\n",
      "  {\n",
      "    \"id\": 33,\n",
      "    \"name\": \"36840\"\n",
      "  },\n",
      "  {\n",
      "    \"id\": 34,\n",
      "    \"name\": \"47458\"\n",
      "  },\n",
      "  {\n",
      "    \"id\": 35,\n",
      "    \"name\": \"47905\"\n",
      "  },\n",
      "  {\n",
      "    \"id\": 36,\n",
      "    \"name\": \"85984\"\n",
      "  },\n",
      "  {\n",
      "    \"id\": 37,\n",
      "    \"name\": \"87079\"\n",
      "  },\n",
      "  {\n",
      "    \"id\": 38,\n",
      "    \"name\": \"87087\"\n",
      "  },\n",
      "  {\n",
      "    \"id\": 39,\n",
      "    \"name\": \"87580\"\n",
      "  },\n",
      "  {\n",
      "    \"id\": 40,\n",
      "    \"name\": \"93273\"\n",
      "  },\n",
      "  {\n",
      "    \"id\": 41,\n",
      "    \"name\": \"98138\"\n",
      "  },\n",
      "  {\n",
      "    \"id\": 42,\n",
      "    \"name\": \"99206\"\n",
      "  }\n",
      "]\n"
     ]
    }
   ],
   "source": [
    "import json\n",
    "output = []\n",
    "for _id, _name in enumerate(dataset.class_names):\n",
    "    output.append({\"id\": _id, \"name\": _name})\n",
    "print(json.dumps(output, indent=2, sort_keys=True))"
   ]
  },
  {
   "cell_type": "code",
   "execution_count": 11,
   "id": "8aec61c2-c0bb-4395-a97a-f7176986fb82",
   "metadata": {},
   "outputs": [
    {
     "data": {
      "text/plain": [
       "{'rois': array([[273, 369, 303, 397]], dtype=int32),\n",
       " 'class_ids': array([32], dtype=int32),\n",
       " 'scores': array([0.7590335], dtype=float32),\n",
       " 'masks': array([[[False],\n",
       "         [False],\n",
       "         [False],\n",
       "         ...,\n",
       "         [False],\n",
       "         [False],\n",
       "         [False]],\n",
       " \n",
       "        [[False],\n",
       "         [False],\n",
       "         [False],\n",
       "         ...,\n",
       "         [False],\n",
       "         [False],\n",
       "         [False]],\n",
       " \n",
       "        [[False],\n",
       "         [False],\n",
       "         [False],\n",
       "         ...,\n",
       "         [False],\n",
       "         [False],\n",
       "         [False]],\n",
       " \n",
       "        ...,\n",
       " \n",
       "        [[False],\n",
       "         [False],\n",
       "         [False],\n",
       "         ...,\n",
       "         [False],\n",
       "         [False],\n",
       "         [False]],\n",
       " \n",
       "        [[False],\n",
       "         [False],\n",
       "         [False],\n",
       "         ...,\n",
       "         [False],\n",
       "         [False],\n",
       "         [False]],\n",
       " \n",
       "        [[False],\n",
       "         [False],\n",
       "         [False],\n",
       "         ...,\n",
       "         [False],\n",
       "         [False],\n",
       "         [False]]])}"
      ]
     },
     "execution_count": 11,
     "metadata": {},
     "output_type": "execute_result"
    }
   ],
   "source": [
    "results"
   ]
  },
  {
   "cell_type": "code",
   "execution_count": 10,
   "id": "e2a6bb15-6efc-404e-8325-baccb7fac649",
   "metadata": {},
   "outputs": [
    {
     "data": {
      "text/plain": [
       "array([32], dtype=int32)"
      ]
     },
     "execution_count": 10,
     "metadata": {},
     "output_type": "execute_result"
    }
   ],
   "source": [
    "results['class_ids']"
   ]
  }
 ],
 "metadata": {
  "kernelspec": {
   "display_name": "Python 3 (ipykernel)",
   "language": "python",
   "name": "python3"
  },
  "language_info": {
   "codemirror_mode": {
    "name": "ipython",
    "version": 3
   },
   "file_extension": ".py",
   "mimetype": "text/x-python",
   "name": "python",
   "nbconvert_exporter": "python",
   "pygments_lexer": "ipython3",
   "version": "3.9.7"
  }
 },
 "nbformat": 4,
 "nbformat_minor": 5
}
