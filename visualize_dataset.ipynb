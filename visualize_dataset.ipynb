{
 "cells": [
  {
   "cell_type": "code",
   "execution_count": 1,
   "id": "d044f5a8-6882-4912-83a7-d7c797d23c8c",
   "metadata": {},
   "outputs": [
    {
     "name": "stdout",
     "output_type": "stream",
     "text": [
      "Migrating database to v0.15.1\n"
     ]
    }
   ],
   "source": [
    "import os\n",
    "import fiftyone as fo\n",
    "\n",
    "import lego_utils"
   ]
  },
  {
   "cell_type": "markdown",
   "id": "5018bc4a-d495-4f45-934e-4ad91feef307",
   "metadata": {},
   "source": [
    "## Setup Paths"
   ]
  },
  {
   "cell_type": "code",
   "execution_count": 3,
   "id": "9aa89d59-f0a7-4e33-a766-331a66a7b9ac",
   "metadata": {},
   "outputs": [],
   "source": [
    "base_asset_path = os.path.join(\"logs\")\n",
    "weights_path = os.path.join(base_asset_path, \"weights\")\n",
    "dataset_path = os.path.join(base_asset_path, \"dataset\")"
   ]
  },
  {
   "cell_type": "markdown",
   "id": "87605f06-1ffe-48fc-809d-f3c96565d802",
   "metadata": {},
   "source": [
    "## Load Dataset into FiftyOne"
   ]
  },
  {
   "cell_type": "code",
   "execution_count": 4,
   "id": "a1e05073-8560-404a-ab00-70b49c33ed1b",
   "metadata": {},
   "outputs": [
    {
     "name": "stdout",
     "output_type": "stream",
     "text": [
      "Loading dataset dataset_1 - test...\n",
      " 100% |███████████████| 2500/2500 [40.0s elapsed, 0s remaining, 71.7 samples/s]      \n",
      "Dataset: dataset_1 - test loaded\n",
      "Loading dataset dataset_1 - train...\n",
      " 100% |███████████████| 2501/2501 [37.8s elapsed, 0s remaining, 61.8 samples/s]      \n",
      "Dataset: dataset_1 - train loaded\n"
     ]
    }
   ],
   "source": [
    "# loaded datasets\n",
    "datasets = []\n",
    "\n",
    "# load all coco datasets within the dataset_path\n",
    "for ds_subdir in os.listdir(dataset_path):\n",
    "    ds_fullpath = os.path.join(dataset_path, ds_subdir)\n",
    "    if os.path.isdir(ds_fullpath) and not ds_subdir.startswith(\".\"):\n",
    "        \n",
    "        # process by dataset splits\n",
    "        for ds_split in os.listdir(ds_fullpath):\n",
    "            ds_split_fullpath = os.path.join(ds_fullpath, ds_split)\n",
    "            \n",
    "            name = f\"{ds_subdir} - {ds_split}\"\n",
    "            \n",
    "            print(f\"Loading dataset {name}...\")\n",
    "            if name not in fo.list_datasets():\n",
    "                data_path = ds_split_fullpath\n",
    "                labels_path = os.path.join(data_path, \"coco_annotations.json\")\n",
    "                dataset_type = fo.types.COCODetectionDataset\n",
    "                \n",
    "                # load in dataset\n",
    "                dataset = fo.Dataset.from_dir(\n",
    "                    dataset_type=dataset_type,\n",
    "                    data_path=data_path,\n",
    "                    labels_path=labels_path,\n",
    "                    name=name\n",
    "                )\n",
    "                \n",
    "                # save dataset to database for persistence\n",
    "                dataset.persistent = True\n",
    "            else:\n",
    "                # dataset already save and persisted, load it from prior save\n",
    "                dataset = fo.load_dataset(name)\n",
    "            print(f\"Dataset: {name} loaded\")\n",
    "            datasets.append(dataset)"
   ]
  },
  {
   "cell_type": "code",
   "execution_count": 9,
   "id": "e90cfbf0-854d-4a2d-96f8-44b00b8beb05",
   "metadata": {},
   "outputs": [
    {
     "name": "stdout",
     "output_type": "stream",
     "text": [
      "Session launched. Run `session.show()` to open the App in a cell output.\n"
     ]
    },
    {
     "data": {
      "application/javascript": [
       "window.open('http://localhost:5151/');"
      ],
      "text/plain": [
       "<IPython.core.display.Javascript object>"
      ]
     },
     "metadata": {},
     "output_type": "display_data"
    }
   ],
   "source": [
    "# visualize dataset in GUI\n",
    "session = fo.launch_app(port=5151, auto=False)#, remote=True)\n",
    "session.open_tab()"
   ]
  }
 ],
 "metadata": {
  "kernelspec": {
   "display_name": "Python 3 (ipykernel)",
   "language": "python",
   "name": "python3"
  },
  "language_info": {
   "codemirror_mode": {
    "name": "ipython",
    "version": 3
   },
   "file_extension": ".py",
   "mimetype": "text/x-python",
   "name": "python",
   "nbconvert_exporter": "python",
   "pygments_lexer": "ipython3",
   "version": "3.8.10"
  }
 },
 "nbformat": 4,
 "nbformat_minor": 5
}
