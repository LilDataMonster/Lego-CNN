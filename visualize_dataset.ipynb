{
 "cells": [
  {
   "cell_type": "code",
   "execution_count": 5,
   "id": "d044f5a8-6882-4912-83a7-d7c797d23c8c",
   "metadata": {},
   "outputs": [],
   "source": [
    "import os\n",
    "import lego_utils\n",
    "\n",
    "import fiftyone as fo"
   ]
  },
  {
   "cell_type": "code",
   "execution_count": 6,
   "id": "fe2b7622-9e3c-4bd7-8d50-fbec1b028112",
   "metadata": {},
   "outputs": [],
   "source": [
    "dataset_url = \"https://s3.wasabisys.com/blender-rudy-set-background/dataset_1.tgz\"\n",
    "\n",
    "base_asset_path = os.path.join(\"logs\")"
   ]
  },
  {
   "cell_type": "code",
   "execution_count": 7,
   "id": "f81bb859-0604-4c51-a70a-fd4c59f9d181",
   "metadata": {},
   "outputs": [
    {
     "data": {
      "application/vnd.jupyter.widget-view+json": {
       "model_id": "8ba6fcd0f5994ea684de3dad70251bf3",
       "version_major": 2,
       "version_minor": 0
      },
      "text/plain": [
       "dataset_1.tgz:   0%|          | 0.00/2.64G [00:00<?, ?B/s]"
      ]
     },
     "metadata": {},
     "output_type": "display_data"
    },
    {
     "data": {
      "application/vnd.jupyter.widget-view+json": {
       "model_id": "8d9663c53d8d4fb5aafc37395037ce50",
       "version_major": 2,
       "version_minor": 0
      },
      "text/plain": [
       "  0%|          | 0/5008 [00:00<?, ?it/s]"
      ]
     },
     "metadata": {},
     "output_type": "display_data"
    }
   ],
   "source": [
    "lego_utils.download_url(dataset_url, os.path.join(base_asset_path, \"dataset\"))"
   ]
  }
 ],
 "metadata": {
  "kernelspec": {
   "display_name": "Python 3 (ipykernel)",
   "language": "python",
   "name": "python3"
  },
  "language_info": {
   "codemirror_mode": {
    "name": "ipython",
    "version": 3
   },
   "file_extension": ".py",
   "mimetype": "text/x-python",
   "name": "python",
   "nbconvert_exporter": "python",
   "pygments_lexer": "ipython3",
   "version": "3.8.10"
  }
 },
 "nbformat": 4,
 "nbformat_minor": 5
}
