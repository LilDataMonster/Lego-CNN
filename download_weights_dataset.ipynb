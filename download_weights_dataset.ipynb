{
 "cells": [
  {
   "cell_type": "code",
   "execution_count": 1,
   "id": "d61a68d5-b0f7-4d5e-aa3e-1b8584059af2",
   "metadata": {},
   "outputs": [],
   "source": [
    "import os\n",
    "\n",
    "import lego_utils"
   ]
  },
  {
   "cell_type": "code",
   "execution_count": null,
   "id": "f9f2092e-bc96-4679-ac40-0d690c4f07dd",
   "metadata": {},
   "outputs": [],
   "source": [
    "dataset_url = \"https://s3.wasabisys.com/blender-rudy-set-background/dataset_1.tgz\"\n",
    "yolo_weights_url = \"https://github.com/LilDataMonster/Lego-CNN/releases/download/v0.0.3-yolo/exp12.tgz\"\n",
    "mrcnn_weights_url = \"https://github.com/LilDataMonster/Lego-CNN/releases/download/v0.0.3/mask_rcnn_lego_0200.h5\"\n",
    "\n",
    "base_asset_path = os.path.join(\"logs\")\n",
    "weights_path = os.path.join(base_asset_path, \"weights\")\n",
    "dataset_path = os.path.join(base_asset_path, \"dataset\")\n",
    "\n",
    "lego_utils.download_url(yolo_weights_url, weights_path, force_download=False)\n",
    "lego_utils.download_url(dataset_url, dataset_path, force_download=False)"
   ]
  }
 ],
 "metadata": {
  "kernelspec": {
   "display_name": "Python 3 (ipykernel)",
   "language": "python",
   "name": "python3"
  },
  "language_info": {
   "codemirror_mode": {
    "name": "ipython",
    "version": 3
   },
   "file_extension": ".py",
   "mimetype": "text/x-python",
   "name": "python",
   "nbconvert_exporter": "python",
   "pygments_lexer": "ipython3",
   "version": "3.8.10"
  }
 },
 "nbformat": 4,
 "nbformat_minor": 5
}
