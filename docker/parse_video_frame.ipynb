{
 "cells": [
  {
   "cell_type": "code",
   "execution_count": 1,
   "metadata": {},
   "outputs": [
    {
     "data": {
      "text/plain": [
       "'2.5.1'"
      ]
     },
     "execution_count": 1,
     "metadata": {},
     "output_type": "execute_result"
    }
   ],
   "source": [
    "import requests\n",
    "import json\n",
    "import os\n",
    "from pathlib import Path\n",
    "\n",
    "from tqdm import tqdm\n",
    "\n",
    "import numpy as np\n",
    "import tensorflow as tf\n",
    "import matplotlib.pyplot as plt\n",
    "import cv2\n",
    "import ffmpeg\n",
    "\n",
    "from mrcnn import visualize\n",
    "import mrcnn.model as modellib\n",
    "\n",
    "import lego\n",
    "\n",
    "# os.environ['CUDA_VISIBLE_DEVICES'] = '-1'\n",
    "tf.__version__"
   ]
  },
  {
   "cell_type": "code",
   "execution_count": 2,
   "metadata": {},
   "outputs": [],
   "source": [
    "import os\n",
    "from PIL import Image, ImageDraw, ImageFont\n",
    "\n",
    "def render_detections(image, boxes, masks, class_ids, scores, class_names, image_name=None, filter_classs_names=None,\n",
    "               scores_thresh=0.1, save_dir=None, mode=0):\n",
    "    \"\"\"\n",
    "        image: image array\n",
    "        image_name: image name\n",
    "        boxes: [num_instance, (y1, x1, y2, x2, class_id)] in image coordinates.\n",
    "        masks: [num_instances, height, width]\n",
    "        class_ids: [num_instances]\n",
    "        scores: confidence scores for each box\n",
    "        class_names: list of class names of the dataset\n",
    "        filter_classs_names: (optional) list of class names we want to draw\n",
    "        scores_thresh: (optional) threshold of confidence scores\n",
    "        save_dir: (optional) the path to store image\n",
    "        mode: (optional) select the result which you want\n",
    "                mode = 0 , save image with bbox,class_name,score and mask;\n",
    "                mode = 1 , save image with bbox,class_name and score;\n",
    "                mode = 2 , save image with class_name,score and mask;\n",
    "                mode = 3 , save mask with black background;\n",
    "    \"\"\"\n",
    "    mode_list = [0, 1, 2, 3]\n",
    "    assert mode in mode_list, \"mode's value should in mode_list %s\" % str(mode_list)\n",
    "\n",
    "    if save_dir is None and image_name is not None:\n",
    "        save_dir = os.path.join(os.getcwd(), \"output\")\n",
    "        if not os.path.exists(save_dir):\n",
    "            os.makedirs(save_dir)\n",
    "\n",
    "    useful_mask_indices = []\n",
    "\n",
    "    N = boxes.shape[0]\n",
    "    if not N:\n",
    "        print(\"\\n*** No instances in image %s to draw *** \\n\" % (image_name))\n",
    "        return\n",
    "    else:\n",
    "        assert boxes.shape[0] == masks.shape[-1] == class_ids.shape[0]\n",
    "\n",
    "    for i in range(N):\n",
    "        # filter\n",
    "        class_id = class_ids[i]\n",
    "        score = scores[i] if scores is not None else None\n",
    "        if score is None or score < scores_thresh:\n",
    "            continue\n",
    "\n",
    "        label = class_names[class_id]\n",
    "        if (filter_classs_names is not None) and (label not in filter_classs_names):\n",
    "            continue\n",
    "\n",
    "        if not np.any(boxes[i]):\n",
    "            # Skip this instance. Has no bbox. Likely lost in image cropping.\n",
    "            continue\n",
    "\n",
    "        useful_mask_indices.append(i)\n",
    "\n",
    "    if len(useful_mask_indices) == 0:\n",
    "        print(\"\\n*** No instances in image %s to draw *** \\n\" % (image_name))\n",
    "        return\n",
    "\n",
    "    colors = visualize.random_colors(len(useful_mask_indices))\n",
    "\n",
    "    if mode != 3:\n",
    "        masked_image = image.astype(np.uint8).copy()\n",
    "    else:\n",
    "        masked_image = np.zeros(image.shape).astype(np.uint8)\n",
    "\n",
    "    if mode != 1:\n",
    "        for index, value in enumerate(useful_mask_indices):\n",
    "            masked_image = visualize.apply_mask(masked_image, masks[:, :, value], colors[index])\n",
    "\n",
    "    masked_image = Image.fromarray(masked_image)\n",
    "\n",
    "    if mode == 3:\n",
    "        if image_name is not None:\n",
    "            masked_image.save(os.path.join(save_dir, '%s.jpg' % (image_name)))\n",
    "        return masked_image\n",
    "\n",
    "    draw = ImageDraw.Draw(masked_image)\n",
    "    colors = np.array(colors).astype(int) * 255\n",
    "\n",
    "    for index, value in enumerate(useful_mask_indices):\n",
    "        class_id = class_ids[value]\n",
    "        score = scores[value]\n",
    "        label = class_names[class_id]\n",
    "\n",
    "        y1, x1, y2, x2 = boxes[value]\n",
    "        if mode != 2:\n",
    "            color = tuple(colors[index])\n",
    "            draw.rectangle((x1, y1, x2, y2), outline=color)\n",
    "\n",
    "        # Label\n",
    "        # font = ImageFont.truetype('/Library/Fonts/Arial.ttf', 15)\n",
    "        # draw.text((x1, y1), \"%s %f\" % (label, score), (255, 255, 255), font)\n",
    "        draw.text((x1, y1), \"%s %f\" % (label, score), (255, 255, 255))\n",
    "\n",
    "    if image_name is not None:\n",
    "        masked_image.save(os.path.join(save_dir, '%s.jpg' % (image_name)))\n",
    "    return masked_image"
   ]
  },
  {
   "cell_type": "code",
   "execution_count": 3,
   "metadata": {},
   "outputs": [],
   "source": [
    "REPO_URL = 'https://api.github.com/repos/LilDataMonster/Lego-CNN/releases/latest'\n",
    "response = json.loads(requests.get(REPO_URL).text)"
   ]
  },
  {
   "cell_type": "code",
   "execution_count": 4,
   "metadata": {},
   "outputs": [],
   "source": [
    "LEGO_WEIGHTS_URL = response['assets'][0]['browser_download_url']\n",
    "LEGO_WEIGHTS_NAME = os.path.basename(LEGO_WEIGHTS_URL)\n",
    "\n",
    "LEGO_WEIGHTS_PATH = Path(os.path.join('.', LEGO_WEIGHTS_NAME))\n",
    "\n",
    "weights_response = requests.get(LEGO_WEIGHTS_URL, stream=True)\n",
    "total_size_in_bytes= int(weights_response.headers.get('content-length', 0))\n",
    "progress_bar = tqdm(total=total_size_in_bytes, unit='iB', unit_scale=True)\n",
    "if not LEGO_WEIGHTS_PATH.exists():\n",
    "    # Streaming, so we can iterate over the response.\n",
    "    block_size = 1024 #1 Kibibyte\n",
    "    with open(LEGO_WEIGHTS_NAME, 'wb') as file:\n",
    "        for data in weights_response.iter_content(block_size):\n",
    "            progress_bar.update(len(data))\n",
    "            file.write(data)\n",
    "\n",
    "    if total_size_in_bytes != 0 and progress_bar.n != total_size_in_bytes:\n",
    "        print(\"ERROR downloading pretrained weights\")\n",
    "progress_bar.close()"
   ]
  },
  {
   "cell_type": "code",
   "execution_count": 5,
   "metadata": {},
   "outputs": [],
   "source": [
    "def get_ax(rows=1, cols=1, size=16):\n",
    "    \"\"\"Return a Matplotlib Axes array to be used in\n",
    "    all visualizations in the notebook. Provide a\n",
    "    central point to control graph sizes.\n",
    "    \n",
    "    Adjust the size attribute to control how big to render images\n",
    "    \"\"\"\n",
    "    _, ax = plt.subplots(rows, cols, figsize=(size*cols, size*rows))\n",
    "    return ax"
   ]
  },
  {
   "cell_type": "code",
   "execution_count": 6,
   "metadata": {},
   "outputs": [],
   "source": [
    "class InferenceConfig(lego.LegoConfig().__class__):\n",
    "    # Run detection on one image at a time\n",
    "    GPU_COUNT = 1\n",
    "    IMAGES_PER_GPU = 1\n",
    "\n",
    "config = InferenceConfig()"
   ]
  },
  {
   "cell_type": "code",
   "execution_count": 7,
   "metadata": {},
   "outputs": [
    {
     "name": "stdout",
     "output_type": "stream",
     "text": [
      "WARNING:tensorflow:From /usr/local/lib/python3.6/dist-packages/tensorflow/python/ops/array_ops.py:5049: calling gather (from tensorflow.python.ops.array_ops) with validate_indices is deprecated and will be removed in a future version.\n",
      "Instructions for updating:\n",
      "The `validate_indices` argument has no effect. Indices are always validated on CPU and never validated on GPU.\n",
      "WARNING:tensorflow:From /usr/local/lib/python3.6/dist-packages/tensorflow/python/util/deprecation.py:602: calling map_fn_v2 (from tensorflow.python.ops.map_fn) with dtype is deprecated and will be removed in a future version.\n",
      "Instructions for updating:\n",
      "Use fn_output_signature instead\n",
      "Loading weights  mask_rcnn_lego_0200.h5\n"
     ]
    }
   ],
   "source": [
    "# # Directory to save logs and trained model\n",
    "# MODEL_DIR = os.path.join(ROOT_DIR, \"logs\")\n",
    "# LEGO_WEIGHTS_PATH = os.path.join(ROOT_DIR, \"snapshots\", \"weights\",\"mask_rcnn_lego_0111.h5\") # Comment out to use snapshot from latest training\n",
    "\n",
    "model = modellib.MaskRCNN(mode=\"inference\", model_dir=\"\", config=config)\n",
    "print(\"Loading weights \", LEGO_WEIGHTS_PATH)\n",
    "model.load_weights(LEGO_WEIGHTS_PATH, by_name=True)"
   ]
  },
  {
   "cell_type": "code",
   "execution_count": 8,
   "metadata": {},
   "outputs": [],
   "source": [
    "# dataset = lego.LegoDataset()\n",
    "# dataset.prepare()\n",
    "#dataset.class_names\n",
    "class_names = ['BG', '2431', '3003', '3005', '3010', '3020', '3021', '3022', '3023', '3024', '3069', '3070', '3176', '3622', '3700', '3710', '3958', '4150', '4274', '6141', '11211', '11476', '11477', '15068', '15573', '22885', '24201', '24246', '25269', '29119', '29120', '33909', '35480', '36840', '47458', '47905', '85984', '87079', '87087', '87580', '93273', '98138', '99206']"
   ]
  },
  {
   "cell_type": "code",
   "execution_count": 21,
   "metadata": {},
   "outputs": [],
   "source": [
    "from tqdm import tqdm\n",
    "from cv2 import CAP_PROP_FRAME_COUNT\n",
    "\n",
    "def frame_iter(capture, description):\n",
    "    def _iterator():\n",
    "        while capture.grab():\n",
    "            yield capture.retrieve()[1]\n",
    "    return tqdm(\n",
    "        _iterator(),\n",
    "        desc=description,\n",
    "        total=int(capture.get(CAP_PROP_FRAME_COUNT)),\n",
    "    )"
   ]
  },
  {
   "cell_type": "code",
   "execution_count": 23,
   "metadata": {
    "tags": []
   },
   "outputs": [
    {
     "name": "stderr",
     "output_type": "stream",
     "text": [
      "detect_movie.mp4: 100%|██████████| 1050/1050 [14:00<00:00,  1.25it/s]\n"
     ]
    }
   ],
   "source": [
    "video_filename = 'movie.mp4'\n",
    "cap = cv2.VideoCapture(video_filename)\n",
    "frame_width = int(cap.get(3))\n",
    "frame_height = int(cap.get(4))\n",
    "\n",
    "detect_video_filename = 'detect_' + video_filename\n",
    "out = cv2.VideoWriter(detect_video_filename, cv2.VideoWriter_fourcc('M','J','P','G'), 60, (frame_width,frame_height))\n",
    "\n",
    "for frame in frame_iter(cap, detect_video_filename):\n",
    "    frame = cv2.cvtColor(frame, cv2.COLOR_BGR2RGB)\n",
    "    results = model.detect([frame], verbose=0)[0]\n",
    "    \n",
    "    frame_detect = render_detections(frame, results['rois'], results['masks'], results['class_ids'], results['scores'], class_names, filter_classs_names=None, scores_thresh=0.1, save_dir=None, mode=0)\n",
    "    frame_detect = np.array(frame_detect)\n",
    "    \n",
    "    frame_detect = cv2.cvtColor(frame_detect, cv2.COLOR_RGB2BGR)\n",
    "    out.write(frame_detect)\n",
    "    \n",
    "    # plt.figure()\n",
    "    # plt.imshow(frame_detect)\n",
    "    # plt.show()\n",
    "    \n",
    "cap.release()    \n",
    "out.release()"
   ]
  },
  {
   "cell_type": "code",
   "execution_count": 9,
   "metadata": {},
   "outputs": [],
   "source": [
    "# output_image = render_detections(image_data, results['rois'], results['masks'], results['class_ids'], results['scores'], class_names, filter_classs_names=None, scores_thresh=0.1, save_dir=None, mode=0)"
   ]
  },
  {
   "cell_type": "code",
   "execution_count": 24,
   "metadata": {},
   "outputs": [
    {
     "ename": "NameError",
     "evalue": "name 'output_image' is not defined",
     "output_type": "error",
     "traceback": [
      "\u001b[0;31m-----------------------------------------------------------------\u001b[0m",
      "\u001b[0;31mNameError\u001b[0m                       Traceback (most recent call last)",
      "\u001b[0;32m<ipython-input-24-e59f202ecc09>\u001b[0m in \u001b[0;36m<module>\u001b[0;34m\u001b[0m\n\u001b[1;32m      1\u001b[0m \u001b[0mplt\u001b[0m\u001b[0;34m.\u001b[0m\u001b[0mfigure\u001b[0m\u001b[0;34m(\u001b[0m\u001b[0mfigsize\u001b[0m\u001b[0;34m=\u001b[0m\u001b[0;34m(\u001b[0m\u001b[0;36m16\u001b[0m\u001b[0;34m,\u001b[0m\u001b[0;36m8\u001b[0m\u001b[0;34m)\u001b[0m\u001b[0;34m)\u001b[0m\u001b[0;34m\u001b[0m\u001b[0;34m\u001b[0m\u001b[0m\n\u001b[0;32m----> 2\u001b[0;31m \u001b[0mplt\u001b[0m\u001b[0;34m.\u001b[0m\u001b[0mimshow\u001b[0m\u001b[0;34m(\u001b[0m\u001b[0moutput_image\u001b[0m\u001b[0;34m)\u001b[0m\u001b[0;34m\u001b[0m\u001b[0;34m\u001b[0m\u001b[0m\n\u001b[0m",
      "\u001b[0;31mNameError\u001b[0m: name 'output_image' is not defined"
     ]
    },
    {
     "data": {
      "text/plain": [
       "<Figure size 1152x576 with 0 Axes>"
      ]
     },
     "metadata": {},
     "output_type": "display_data"
    }
   ],
   "source": [
    "plt.figure(figsize=(16,8))\n",
    "plt.imshow(output_image)"
   ]
  },
  {
   "cell_type": "code",
   "execution_count": null,
   "metadata": {
    "tags": []
   },
   "outputs": [],
   "source": [
    "image_path = '000000.jpg'\n",
    "image = tf.keras.preprocessing.image.load_img(image_path)\n",
    "image_data = tf.keras.preprocessing.image.img_to_array(image)\n",
    "results = model.detect([image_data], verbose=0)[0]\n",
    "results"
   ]
  },
  {
   "cell_type": "code",
   "execution_count": null,
   "metadata": {},
   "outputs": [],
   "source": [
    "# ax = get_ax(1)\n",
    "# visualize.display_instances(image_data, results['rois'], results['masks'], results['class_ids'], class_names, results['scores'], ax=ax, title=\"Predictions\")"
   ]
  }
 ],
 "metadata": {
  "kernelspec": {
   "display_name": "Python 3",
   "language": "python",
   "name": "python3"
  },
  "language_info": {
   "codemirror_mode": {
    "name": "ipython",
    "version": 3
   },
   "file_extension": ".py",
   "mimetype": "text/x-python",
   "name": "python",
   "nbconvert_exporter": "python",
   "pygments_lexer": "ipython3",
   "version": "3.6.9"
  }
 },
 "nbformat": 4,
 "nbformat_minor": 4
}
